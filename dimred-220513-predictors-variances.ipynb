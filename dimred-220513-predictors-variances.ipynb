{
 "cells": [
  {
   "cell_type": "markdown",
   "metadata": {},
   "source": [
    "# Import modules"
   ]
  },
  {
   "cell_type": "code",
   "execution_count": 1,
   "metadata": {},
   "outputs": [
    {
     "name": "stdout",
     "output_type": "stream",
     "text": [
      "CPU times: user 1.23 s, sys: 168 ms, total: 1.4 s\n",
      "Wall time: 1.42 s\n"
     ]
    }
   ],
   "source": [
    "%%time\n",
    "\n",
    "import datetime\n",
    "import os, glob, sys\n",
    "\n",
    "import warnings\n",
    "warnings.filterwarnings('ignore', '.*invalid value encountered in true_divide.*', )\n",
    "\n",
    "import pickle\n",
    "\n",
    "\n",
    "\n",
    "import numpy as np\n",
    "import xarray as xr\n",
    "import matplotlib as mpl\n",
    "import matplotlib.pyplot as plt\n",
    "from matplotlib.colors import ListedColormap\n",
    "from matplotlib import cm\n",
    "import cartopy.crs       as ccrs\n",
    "import cartopy\n",
    "\n",
    "from scipy.interpolate import UnivariateSpline\n",
    "from sklearn.metrics import r2_score, mean_squared_error, explained_variance_score\n",
    "from scipy.stats import pearsonr, spearmanr\n",
    "\n",
    "mpl.rcParams['savefig.dpi'] = 300"
   ]
  },
  {
   "cell_type": "markdown",
   "metadata": {},
   "source": [
    "# Starters"
   ]
  },
  {
   "cell_type": "code",
   "execution_count": 2,
   "metadata": {},
   "outputs": [
    {
     "name": "stdout",
     "output_type": "stream",
     "text": [
      "2022-11-08 11:33:13.094226\n",
      "CPU times: user 444 µs, sys: 62 µs, total: 506 µs\n",
      "Wall time: 304 µs\n"
     ]
    }
   ],
   "source": [
    "%%time\n",
    "print(datetime.datetime.now())\n",
    "\n",
    "dirout = 'dimred-220513-predictors-variances/'\n",
    "if not os.path.isdir(dirout) : os.mkdir(dirout)"
   ]
  },
  {
   "cell_type": "code",
   "execution_count": 3,
   "metadata": {},
   "outputs": [
    {
     "name": "stdout",
     "output_type": "stream",
     "text": [
      "2022-11-08 11:33:13.102735\n",
      "CPU times: user 576 µs, sys: 934 µs, total: 1.51 ms\n",
      "Wall time: 25.7 ms\n"
     ]
    }
   ],
   "source": [
    "%%time\n",
    "print(datetime.datetime.now())\n",
    "sys.stdout.echo = open(dirout+'stdout.txt', 'w')\n",
    "sys.stderr.echo = open(dirout+'stderr.txt', 'w')"
   ]
  },
  {
   "cell_type": "markdown",
   "metadata": {},
   "source": [
    "# Input parameters"
   ]
  },
  {
   "cell_type": "code",
   "execution_count": 4,
   "metadata": {},
   "outputs": [
    {
     "name": "stdout",
     "output_type": "stream",
     "text": [
      "2022-11-08 11:33:13.133849\n",
      "CPU times: user 362 µs, sys: 52 µs, total: 414 µs\n",
      "Wall time: 282 µs\n"
     ]
    }
   ],
   "source": [
    "%%time\n",
    "print(datetime.datetime.now())\n",
    "\n",
    "dirshared = '/mnt/reef-ns1002k/daco/MY_JUPYTER_NOTEBOOKS/DIM-REG/SHARED-DATAS/'\n",
    "dircmip6 = '/mnt/reef-ns1002k/daco/MY_JUPYTER_NOTEBOOKS/DIM-RED/CMIP6-DATAS-LINKS/'"
   ]
  },
  {
   "cell_type": "markdown",
   "metadata": {},
   "source": [
    "# Define functions"
   ]
  },
  {
   "cell_type": "code",
   "execution_count": 5,
   "metadata": {},
   "outputs": [],
   "source": [
    "def p_smooth_spline(t,x):\n",
    "    spline = UnivariateSpline(t, x, k=3, bbox=[np.min(t), np.max(t)])\n",
    "    y = spline(t)\n",
    "    return(y)\n",
    "#\n",
    "\n",
    "def dtrd_dseas(zwraw, zwtrd): \n",
    "    zwdtrd = zwraw - zwtrd\n",
    "    zw = []\n",
    "    for mmm in np.arange(12): zw.append(np.nanmean(zwdtrd[mmm::12]))\n",
    "    zwseas = []\n",
    "    for yyy in np.arange(len(zwraw)/12): zwseas.extend(zw)\n",
    "    zwseas = np.array(zwseas)\n",
    "    return zwraw - zwtrd - zwseas, zwseas+zwtrd, zwseas\n",
    "#\n",
    "\n"
   ]
  },
  {
   "cell_type": "markdown",
   "metadata": {},
   "source": [
    "# Variances of the detrended and deseasonalized predictors"
   ]
  },
  {
   "cell_type": "markdown",
   "metadata": {},
   "source": [
    "## Inputs"
   ]
  },
  {
   "cell_type": "code",
   "execution_count": 6,
   "metadata": {},
   "outputs": [
    {
     "name": "stdout",
     "output_type": "stream",
     "text": [
      "2022-11-08 11:33:14.345192\n",
      "CPU times: user 283 µs, sys: 40 µs, total: 323 µs\n",
      "Wall time: 232 µs\n"
     ]
    }
   ],
   "source": [
    "%%time\n",
    "print(datetime.datetime.now())\n",
    "\n",
    "# model_list = ['NorESM2-LM', 'MPI-ESM1-2-LR', 'CESM2', 'ACCESS-ESM1-5', 'IPSL-CM6A-LR']\n",
    "# simu_list  = ['picontrol', 'historical', 'ssp126', 'ssp585']\n",
    "simu_list  = ['historical', 'ssp126', 'ssp585']\n",
    "# predname_list = ['dissic', 'talk', 'tos', 'sos', 'siconc', 'sfcWind', 'po4', 'epc100', 'mlotst']\n",
    "predname_list = ['dissic', 'talk', 'tos', 'sos', 'sfcWind', 'po4', 'epc100', 'mlotst']\n",
    "#predname_list = ['dissic', 'talk']\n",
    "model = 'ACCESS-ESM1-5'\n"
   ]
  },
  {
   "cell_type": "markdown",
   "metadata": {},
   "source": [
    "## Load and prepare data2plot"
   ]
  },
  {
   "cell_type": "code",
   "execution_count": null,
   "metadata": {},
   "outputs": [
    {
     "name": "stdout",
     "output_type": "stream",
     "text": [
      "2022-11-08 11:35:01.191731\n",
      "Variances of the detrended and deseasonalized predictors: prepare and save data2plot\n",
      "Model: ACCESS-ESM1-5\n",
      "> predname: dissic\n",
      ">> simu: historical\n",
      ">> simu: ssp126\n",
      ">> simu: ssp585\n",
      "> predname: talk\n",
      ">> simu: historical\n",
      ">> simu: ssp126\n",
      ">> simu: ssp585\n",
      "> predname: tos\n",
      ">> simu: historical\n",
      ">> simu: ssp126\n",
      ">> simu: ssp585\n",
      "> predname: sos\n",
      ">> simu: historical\n",
      ">> simu: ssp126\n",
      ">> simu: ssp585\n",
      "> predname: sfcWind\n",
      ">> simu: historical\n",
      ">> simu: ssp126\n",
      ">> simu: ssp585\n",
      "> predname: po4\n",
      ">> simu: historical\n",
      ">> simu: ssp126\n",
      ">> simu: ssp585\n",
      "> predname: epc100\n",
      ">> simu: historical\n",
      ">> simu: ssp126\n",
      ">> simu: ssp585\n",
      "> predname: mlotst\n",
      ">> simu: historical\n"
     ]
    },
    {
     "name": "stderr",
     "output_type": "stream",
     "text": [
      "/opt/conda/lib/python3.7/site-packages/scipy/interpolate/fitpack2.py:232: UserWarning: \n",
      "The maximal number of iterations maxit (set to 20 by the program)\n",
      "allowed for finding a smoothing spline with fp=s has been reached: s\n",
      "too small.\n",
      "There is an approximation returned but the corresponding weighted sum\n",
      "of squared residuals does not satisfy the condition abs(fp-s)/s < tol.\n",
      "  warnings.warn(message)\n"
     ]
    }
   ],
   "source": [
    "%%time\n",
    "print(datetime.datetime.now())\n",
    "print('Variances of the detrended and deseasonalized predictors: prepare and save data2plot')\n",
    "\n",
    "print('Model: %s'%model)\n",
    "data2save = {}\n",
    "\n",
    "for predname in predname_list: \n",
    "    \n",
    "    print('> predname: %s' %predname)\n",
    "\n",
    "    data2save[predname] = {}\n",
    "    \n",
    "    for simu in simu_list: \n",
    "        \n",
    "        print('>> simu: %s' %simu)\n",
    "        \n",
    "        data2save[predname][simu] = {}\n",
    "\n",
    "        #---------------\n",
    "        # Read datas\n",
    "        #---------------\n",
    "    \n",
    "        dirname = dircmip6 + model + '/' + simu + '/'\n",
    "        fname = predname + '_' + model + '_' + simu + '*.nc'\n",
    "        dataset = xr.open_mfdataset(dirname + fname, use_cftime=True)\n",
    "        zwpred = dataset[predname]\n",
    "\n",
    "        zwX = zwpred['lon'].values\n",
    "        zwY = zwpred['lat'].values\n",
    "        zwZ = zwpred.values\n",
    "\n",
    "        X, Y = np.meshgrid(zwX, zwY)\n",
    "        \n",
    "        if len(zwZ.shape)== 4 : nt, nz, ny, nx = zwZ.shape\n",
    "        elif len(zwZ.shape)==3: nt,     ny, nx = zwZ.shape\n",
    "        \n",
    "        #---------------\n",
    "        # Compute variance of detrended and deseasonalized signal\n",
    "        #---------------\n",
    "\n",
    "        Z = np.zeros((ny, nx))\n",
    "        if len(zwZ.shape)== 4 : ground = np.isnan(zwZ[0, 0])    \n",
    "        elif len(zwZ.shape)==3: ground = np.isnan(zwZ[0])    \n",
    "        for jj in np.arange(ny): \n",
    "            for ii in np.arange(nx): \n",
    "                if not ground[jj, ii]: \n",
    "                    if len(zwZ.shape)== 4 : zw = zwZ[:, 0, jj, ii]\n",
    "                    elif len(zwZ.shape)==3: zw = zwZ[:,    jj, ii]\n",
    "                    # trend\n",
    "                    t = np.linspace(0, nt - 1, num=nt)\n",
    "                    trd = p_smooth_spline(t, zw)\n",
    "                    # dtrd, dseas\n",
    "                    zw_dtrd_dseas, trdseas, seas = dtrd_dseas(zw, trd)\n",
    "                    Z[jj, ii] = np.var(zw_dtrd_dseas)                \n",
    "                else : Z[jj, ii] = np.nan\n",
    "            #\n",
    "        #\n",
    "\n",
    "        #---------------\n",
    "        # Save data\n",
    "        #---------------\n",
    "\n",
    "        data2save[predname][simu]['X'] = X\n",
    "        data2save[predname][simu]['Y'] = Y\n",
    "        data2save[predname][simu]['Z'] = Z\n",
    "    #\n",
    "#\n",
    "\n",
    "savedfile = dirout + 'data2plot-variances-of-dtrd-deseas-predictors-'+model+'.pckl'\n",
    "if os.path.isfile(savedfile): os.remove(savedfile)\n",
    "with open(savedfile, 'wb') as f1:pickle.dump(data2save, f1)\n",
    "print(\"File saved: \"+savedfile)        \n",
    "\n",
    "# ca. 9h"
   ]
  },
  {
   "cell_type": "markdown",
   "metadata": {},
   "source": [
    "## Load and prepare salinity normalized DIC and ALK variance (dtrd and deseas)"
   ]
  },
  {
   "cell_type": "code",
   "execution_count": null,
   "metadata": {},
   "outputs": [],
   "source": [
    "%%time\n",
    "print(datetime.datetime.now())\n",
    "print('Variances of the detrended and deseasonalized predictors: prepare and save salinity normalized DIC and ALK variance (dtrd and deseas)')\n",
    "\n",
    "print('Model: %s'%model)\n",
    "data2save = {}\n",
    "\n",
    "for predname in ['dissic', 'talk']: \n",
    "    \n",
    "    print('> predname: %s' %predname)\n",
    "\n",
    "    data2save[predname] = {}\n",
    "    \n",
    "    for simu in simu_list: \n",
    "        \n",
    "        print('>> simu: %s' %simu)\n",
    "        \n",
    "        data2save[predname][simu] = {}\n",
    "\n",
    "        #---------------\n",
    "        # Read datas\n",
    "        #---------------\n",
    "    \n",
    "        dirname = dircmip6 + model + '/' + simu + '/'\n",
    "        fname = 'sos' + '_' + model + '_' + simu + '*.nc'\n",
    "        dataset = xr.open_mfdataset(dirname + fname)\n",
    "        zwsos = dataset['sos']\n",
    "        zwS0 = zwsos.mean(axis=0).values\n",
    "        zwS  = zwsos.values\n",
    "\n",
    "        dirname = dircmip6 + model + '/' + simu + '/'\n",
    "        fname = predname + '_' + model + '_' + simu + '*.nc'\n",
    "        dataset = xr.open_mfdataset(dirname + fname)\n",
    "        zwpred = dataset[predname]\n",
    "\n",
    "        zwX = zwpred['lon'].values\n",
    "        zwY = zwpred['lat'].values\n",
    "        zwZ = zwpred.values\n",
    "        \n",
    "        X, Y = np.meshgrid(zwX, zwY)\n",
    "        \n",
    "        if len(zwZ.shape)== 4 : nt, nz, ny, nx = zwZ.shape\n",
    "        elif len(zwZ.shape)==3: nt,     ny, nx = zwZ.shape\n",
    "        \n",
    "        #---------------\n",
    "        # Compute variance of detrended and deseasonalized signal\n",
    "        #---------------\n",
    "\n",
    "        Z = np.zeros((ny, nx))\n",
    "        if len(zwZ.shape)== 4 : ground = np.isnan(zwZ[0, 0])    \n",
    "        elif len(zwZ.shape)==3: ground = np.isnan(zwZ[0])    \n",
    "        for jj in np.arange(ny): \n",
    "            for ii in np.arange(nx): \n",
    "                if not ground[jj, ii]: \n",
    "                    if len(zwZ.shape)== 4 : zw = zwZ[:, 0, jj, ii] * zwS0[np.newaxis, jj, ii] / zwS[:, jj, ii]\n",
    "                    elif len(zwZ.shape)==3: zw = zwZ[:,    jj, ii] * zwS0[np.newaxis, jj, ii] / zwS[:, jj, ii]\n",
    "                    # trend\n",
    "                    t = np.linspace(0, nt - 1, num=nt)\n",
    "                    trd = p_smooth_spline(t, zw)\n",
    "                    # dtrd, dseas\n",
    "                    zw_dtrd_dseas, trdseas, seas = dtrd_dseas(zw, trd)\n",
    "                    Z[jj, ii] = np.var(zw_dtrd_dseas)                \n",
    "                else : Z[jj, ii] = np.nan\n",
    "            #\n",
    "        #\n",
    "\n",
    "        #---------------\n",
    "        # Save data\n",
    "        #---------------\n",
    "\n",
    "        data2save[predname][simu]['X'] = X\n",
    "        data2save[predname][simu]['Y'] = Y\n",
    "        data2save[predname][simu]['Z'] = Z\n",
    "    #\n",
    "#\n",
    "\n",
    "savedfile = dirout + 'data2plot-variances-of-dtrd-deseas-dic-alk-sal-normalized-'+model+'.pckl'\n",
    "if os.path.isfile(savedfile): os.remove(savedfile)\n",
    "with open(savedfile, 'wb') as f1:pickle.dump(data2save, f1)\n",
    "print(\"File saved: \"+savedfile)        \n",
    "\n",
    "# ca. 6min"
   ]
  },
  {
   "cell_type": "markdown",
   "metadata": {},
   "source": [
    "# Variances of the detrended and deseasonalized FGCO2"
   ]
  },
  {
   "cell_type": "markdown",
   "metadata": {},
   "source": [
    "## Inputs"
   ]
  },
  {
   "cell_type": "code",
   "execution_count": 6,
   "metadata": {},
   "outputs": [
    {
     "name": "stdout",
     "output_type": "stream",
     "text": [
      "2022-09-21 14:37:29.927732\n",
      "CPU times: user 471 µs, sys: 46 µs, total: 517 µs\n",
      "Wall time: 419 µs\n"
     ]
    }
   ],
   "source": [
    "%%time\n",
    "print(datetime.datetime.now())\n",
    "\n",
    "model_list = ['NorESM2-LM', 'MPI-ESM1-2-LR', 'CESM2', 'ACCESS-ESM1-5', 'IPSL-CM6A-LR']\n",
    "# simu_list  = ['picontrol', 'historical', 'ssp126', 'ssp585']\n",
    "simu_list  = ['historical', 'ssp126', 'ssp585']\n",
    "predname = 'fgco2'\n"
   ]
  },
  {
   "cell_type": "markdown",
   "metadata": {},
   "source": [
    "## Load and prepare data2plot"
   ]
  },
  {
   "cell_type": "code",
   "execution_count": null,
   "metadata": {},
   "outputs": [
    {
     "name": "stdout",
     "output_type": "stream",
     "text": [
      "2022-09-21 14:37:32.174816\n",
      "Variances of the detrended and deseasonalized FGCO2: prepare and save data2plot\n",
      "> model: NorESM2-LM\n",
      ">> simu: historical\n",
      ">> simu: ssp126\n",
      ">> simu: ssp585\n",
      "> model: MPI-ESM1-2-LR\n",
      ">> simu: historical\n",
      ">> simu: ssp126\n",
      ">> simu: ssp585\n",
      "> model: CESM2\n",
      ">> simu: historical\n",
      ">> simu: ssp126\n",
      ">> simu: ssp585\n",
      "> model: ACCESS-ESM1-5\n",
      ">> simu: historical\n",
      ">> simu: ssp126\n",
      ">> simu: ssp585\n",
      "> model: IPSL-CM6A-LR\n",
      ">> simu: historical\n"
     ]
    }
   ],
   "source": [
    "%%time\n",
    "print(datetime.datetime.now())\n",
    "print('Variances of the detrended and deseasonalized FGCO2: prepare and save data2plot')\n",
    "\n",
    "data2save = {}\n",
    "\n",
    "for model in model_list: \n",
    "    \n",
    "    print('> model: %s' %model)\n",
    "\n",
    "    data2save[model] = {}\n",
    "    \n",
    "    for simu in simu_list: \n",
    "        \n",
    "        print('>> simu: %s' %simu)\n",
    "        \n",
    "        data2save[model][simu] = {}\n",
    "\n",
    "        #---------------\n",
    "        # Read datas\n",
    "        #---------------\n",
    "    \n",
    "        dirname = dircmip6 + model + '/' + simu + '/'\n",
    "        fname = predname + '_' + model + '_' + simu + '*.nc'\n",
    "        dataset = xr.open_mfdataset(dirname + fname)\n",
    "        zwpred = dataset[predname]\n",
    "\n",
    "        zwX = zwpred['lon'].values\n",
    "        zwY = zwpred['lat'].values\n",
    "        zwZ = zwpred.values\n",
    "\n",
    "        X, Y = np.meshgrid(zwX, zwY)\n",
    "        \n",
    "        if len(zwZ.shape)== 4 : nt, nz, ny, nx = zwZ.shape\n",
    "        elif len(zwZ.shape)==3: nt,     ny, nx = zwZ.shape\n",
    "        \n",
    "        #---------------\n",
    "        # Compute variance of detrended and deseasonalized signal\n",
    "        #---------------\n",
    "\n",
    "        Z = np.zeros((ny, nx))\n",
    "        if len(zwZ.shape)== 4 : ground = np.isnan(zwZ[0, 0])    \n",
    "        elif len(zwZ.shape)==3: ground = np.isnan(zwZ[0])    \n",
    "        for jj in np.arange(ny): \n",
    "            for ii in np.arange(nx): \n",
    "                if not ground[jj, ii]: \n",
    "                    if len(zwZ.shape)== 4 : zw = zwZ[:, 0, jj, ii]\n",
    "                    elif len(zwZ.shape)==3: zw = zwZ[:,    jj, ii]\n",
    "                    # trend\n",
    "                    t = np.linspace(0, nt - 1, num=nt)\n",
    "                    trd = p_smooth_spline(t, zw)\n",
    "                    # dtrd, dseas\n",
    "                    zw_dtrd_dseas, trdseas, seas = dtrd_dseas(zw, trd)\n",
    "                    Z[jj, ii] = np.var(zw_dtrd_dseas)                \n",
    "                else : Z[jj, ii] = np.nan\n",
    "            #\n",
    "        #\n",
    "\n",
    "        #---------------\n",
    "        # Save data\n",
    "        #---------------\n",
    "\n",
    "        data2save[model][simu]['X'] = X\n",
    "        data2save[model][simu]['Y'] = Y\n",
    "        data2save[model][simu]['Z'] = Z\n",
    "    #\n",
    "#\n",
    "\n",
    "savedfile = dirout + 'data2plot-variances-of-dtrd-deseas-fgco2.pckl'\n",
    "if os.path.isfile(savedfile): os.remove(savedfile)\n",
    "with open(savedfile, 'wb') as f1:pickle.dump(data2save, f1)\n",
    "print(\"File saved: \"+savedfile)        \n",
    "\n",
    "# ca. 9h"
   ]
  },
  {
   "cell_type": "markdown",
   "metadata": {},
   "source": [
    "# Variances of the detrended and deseasonalized DIC, ALK and DICsn, ALKsn"
   ]
  },
  {
   "cell_type": "markdown",
   "metadata": {},
   "source": [
    "## Inputs"
   ]
  },
  {
   "cell_type": "code",
   "execution_count": 5,
   "metadata": {},
   "outputs": [
    {
     "name": "stdout",
     "output_type": "stream",
     "text": [
      "2022-09-13 17:27:39.358085\n",
      "CPU times: user 101 µs, sys: 15 µs, total: 116 µs\n",
      "Wall time: 84.6 µs\n"
     ]
    }
   ],
   "source": [
    "%%time\n",
    "print(datetime.datetime.now())\n",
    "\n",
    "model_list = ['NorESM2-LM', 'MPI-ESM1-2-LR', 'CESM2', 'ACCESS-ESM1-5', 'IPSL-CM6A-LR']\n",
    "#model_list = ['IPSL-CM6A-LR']\n",
    "# simu_list  = ['picontrol', 'historical', 'ssp126', 'ssp585']\n",
    "simu_list  = ['historical', 'ssp126', 'ssp585']\n",
    "predname_list = ['dissic', 'talk']"
   ]
  },
  {
   "cell_type": "markdown",
   "metadata": {},
   "source": [
    "## Load and prepare data2plot"
   ]
  },
  {
   "cell_type": "code",
   "execution_count": 7,
   "metadata": {},
   "outputs": [
    {
     "name": "stdout",
     "output_type": "stream",
     "text": [
      "2022-09-07 13:28:50.824521\n",
      "Variances of the detrended and deseasonalized DIC, ALK and DICsn, ALKsn: prepare and save data2plot\n",
      "> Model: NorESM2-LM\n",
      ">> predname: dissic\n",
      ">>> simu: historical\n",
      ">>>> Read datas\n",
      "File loaded: dissic_NorESM2-LM_historical*.nc\n",
      "File loaded: sos_NorESM2-LM_historical*.nc\n",
      ">>>> Compute variances\n"
     ]
    },
    {
     "name": "stderr",
     "output_type": "stream",
     "text": [
      "/opt/conda/lib/python3.7/site-packages/ipykernel_launcher.py:10: RuntimeWarning: Mean of empty slice\n",
      "  # Remove the CWD from sys.path while we load stuff.\n"
     ]
    },
    {
     "name": "stdout",
     "output_type": "stream",
     "text": [
      ">>> simu: ssp126\n",
      ">>>> Read datas\n",
      "File loaded: dissic_NorESM2-LM_ssp126*.nc\n",
      "File loaded: sos_NorESM2-LM_ssp126*.nc\n",
      ">>>> Compute variances\n",
      ">>> simu: ssp585\n",
      ">>>> Read datas\n",
      "File loaded: dissic_NorESM2-LM_ssp585*.nc\n",
      "File loaded: sos_NorESM2-LM_ssp585*.nc\n",
      ">>>> Compute variances\n",
      ">> predname: talk\n",
      ">>> simu: historical\n",
      ">>>> Read datas\n",
      "File loaded: talk_NorESM2-LM_historical*.nc\n",
      "File loaded: sos_NorESM2-LM_historical*.nc\n",
      ">>>> Compute variances\n"
     ]
    },
    {
     "name": "stderr",
     "output_type": "stream",
     "text": [
      "/opt/conda/lib/python3.7/site-packages/ipykernel_launcher.py:10: RuntimeWarning: Mean of empty slice\n",
      "  # Remove the CWD from sys.path while we load stuff.\n"
     ]
    },
    {
     "name": "stdout",
     "output_type": "stream",
     "text": [
      ">>> simu: ssp126\n",
      ">>>> Read datas\n",
      "File loaded: talk_NorESM2-LM_ssp126*.nc\n",
      "File loaded: sos_NorESM2-LM_ssp126*.nc\n",
      ">>>> Compute variances\n",
      ">>> simu: ssp585\n",
      ">>>> Read datas\n",
      "File loaded: talk_NorESM2-LM_ssp585*.nc\n",
      "File loaded: sos_NorESM2-LM_ssp585*.nc\n",
      ">>>> Compute variances\n",
      "> Save file\n",
      "File saved: dimred-220513-predictors-variances/data2plot-variances-of-dtrd-deseas-dic-alk-dicsn-alksn-NorESM2-LM.pckl\n",
      "> Model: MPI-ESM1-2-LR\n",
      ">> predname: dissic\n",
      ">>> simu: historical\n",
      ">>>> Read datas\n",
      "File loaded: dissic_MPI-ESM1-2-LR_historical*.nc\n",
      "File loaded: sos_MPI-ESM1-2-LR_historical*.nc\n",
      ">>>> Compute variances\n",
      ">>> simu: ssp126\n",
      ">>>> Read datas\n",
      "File loaded: dissic_MPI-ESM1-2-LR_ssp126*.nc\n",
      "File loaded: sos_MPI-ESM1-2-LR_ssp126*.nc\n",
      ">>>> Compute variances\n",
      ">>> simu: ssp585\n",
      ">>>> Read datas\n",
      "File loaded: dissic_MPI-ESM1-2-LR_ssp585*.nc\n",
      "File loaded: sos_MPI-ESM1-2-LR_ssp585*.nc\n",
      ">>>> Compute variances\n",
      ">> predname: talk\n",
      ">>> simu: historical\n",
      ">>>> Read datas\n",
      "File loaded: talk_MPI-ESM1-2-LR_historical*.nc\n",
      "File loaded: sos_MPI-ESM1-2-LR_historical*.nc\n",
      ">>>> Compute variances\n",
      ">>> simu: ssp126\n",
      ">>>> Read datas\n",
      "File loaded: talk_MPI-ESM1-2-LR_ssp126*.nc\n",
      "File loaded: sos_MPI-ESM1-2-LR_ssp126*.nc\n",
      ">>>> Compute variances\n",
      ">>> simu: ssp585\n",
      ">>>> Read datas\n",
      "File loaded: talk_MPI-ESM1-2-LR_ssp585*.nc\n",
      "File loaded: sos_MPI-ESM1-2-LR_ssp585*.nc\n",
      ">>>> Compute variances\n",
      "> Save file\n",
      "File saved: dimred-220513-predictors-variances/data2plot-variances-of-dtrd-deseas-dic-alk-dicsn-alksn-MPI-ESM1-2-LR.pckl\n",
      "> Model: CESM2\n",
      ">> predname: dissic\n",
      ">>> simu: historical\n",
      ">>>> Read datas\n",
      "File loaded: dissic_CESM2_historical*.nc\n",
      "File loaded: sos_CESM2_historical*.nc\n",
      ">>>> Compute variances\n",
      ">>> simu: ssp126\n",
      ">>>> Read datas\n",
      "File loaded: dissic_CESM2_ssp126*.nc\n",
      "File loaded: sos_CESM2_ssp126*.nc\n",
      ">>>> Compute variances\n",
      ">>> simu: ssp585\n",
      ">>>> Read datas\n",
      "File loaded: dissic_CESM2_ssp585*.nc\n",
      "File loaded: sos_CESM2_ssp585*.nc\n",
      ">>>> Compute variances\n",
      ">> predname: talk\n",
      ">>> simu: historical\n",
      ">>>> Read datas\n",
      "File loaded: talk_CESM2_historical*.nc\n",
      "File loaded: sos_CESM2_historical*.nc\n",
      ">>>> Compute variances\n",
      ">>> simu: ssp126\n",
      ">>>> Read datas\n",
      "File loaded: talk_CESM2_ssp126*.nc\n",
      "File loaded: sos_CESM2_ssp126*.nc\n",
      ">>>> Compute variances\n",
      ">>> simu: ssp585\n",
      ">>>> Read datas\n",
      "File loaded: talk_CESM2_ssp585*.nc\n",
      "File loaded: sos_CESM2_ssp585*.nc\n",
      ">>>> Compute variances\n",
      "> Save file\n",
      "File saved: dimred-220513-predictors-variances/data2plot-variances-of-dtrd-deseas-dic-alk-dicsn-alksn-CESM2.pckl\n",
      "> Model: ACCESS-ESM1-5\n",
      ">> predname: dissic\n",
      ">>> simu: historical\n",
      ">>>> Read datas\n",
      "File loaded: dissic_ACCESS-ESM1-5_historical*.nc\n",
      "File loaded: sos_ACCESS-ESM1-5_historical*.nc\n",
      ">>>> Compute variances\n"
     ]
    },
    {
     "name": "stderr",
     "output_type": "stream",
     "text": [
      "/opt/conda/lib/python3.7/site-packages/ipykernel_launcher.py:10: RuntimeWarning: Mean of empty slice\n",
      "  # Remove the CWD from sys.path while we load stuff.\n"
     ]
    },
    {
     "name": "stdout",
     "output_type": "stream",
     "text": [
      ">>> simu: ssp126\n",
      ">>>> Read datas\n",
      "File loaded: dissic_ACCESS-ESM1-5_ssp126*.nc\n",
      "File loaded: sos_ACCESS-ESM1-5_ssp126*.nc\n",
      ">>>> Compute variances\n"
     ]
    },
    {
     "name": "stderr",
     "output_type": "stream",
     "text": [
      "/opt/conda/lib/python3.7/site-packages/ipykernel_launcher.py:10: RuntimeWarning: Mean of empty slice\n",
      "  # Remove the CWD from sys.path while we load stuff.\n"
     ]
    },
    {
     "name": "stdout",
     "output_type": "stream",
     "text": [
      ">>> simu: ssp585\n",
      ">>>> Read datas\n",
      "File loaded: dissic_ACCESS-ESM1-5_ssp585*.nc\n",
      "File loaded: sos_ACCESS-ESM1-5_ssp585*.nc\n",
      ">>>> Compute variances\n"
     ]
    },
    {
     "name": "stderr",
     "output_type": "stream",
     "text": [
      "/opt/conda/lib/python3.7/site-packages/ipykernel_launcher.py:10: RuntimeWarning: Mean of empty slice\n",
      "  # Remove the CWD from sys.path while we load stuff.\n"
     ]
    },
    {
     "name": "stdout",
     "output_type": "stream",
     "text": [
      ">> predname: talk\n",
      ">>> simu: historical\n",
      ">>>> Read datas\n",
      "File loaded: talk_ACCESS-ESM1-5_historical*.nc\n",
      "File loaded: sos_ACCESS-ESM1-5_historical*.nc\n",
      ">>>> Compute variances\n"
     ]
    },
    {
     "name": "stderr",
     "output_type": "stream",
     "text": [
      "/opt/conda/lib/python3.7/site-packages/ipykernel_launcher.py:10: RuntimeWarning: Mean of empty slice\n",
      "  # Remove the CWD from sys.path while we load stuff.\n"
     ]
    },
    {
     "name": "stdout",
     "output_type": "stream",
     "text": [
      ">>> simu: ssp126\n",
      ">>>> Read datas\n",
      "File loaded: talk_ACCESS-ESM1-5_ssp126*.nc\n",
      "File loaded: sos_ACCESS-ESM1-5_ssp126*.nc\n",
      ">>>> Compute variances\n"
     ]
    },
    {
     "name": "stderr",
     "output_type": "stream",
     "text": [
      "/opt/conda/lib/python3.7/site-packages/ipykernel_launcher.py:10: RuntimeWarning: Mean of empty slice\n",
      "  # Remove the CWD from sys.path while we load stuff.\n"
     ]
    },
    {
     "name": "stdout",
     "output_type": "stream",
     "text": [
      ">>> simu: ssp585\n",
      ">>>> Read datas\n",
      "File loaded: talk_ACCESS-ESM1-5_ssp585*.nc\n",
      "File loaded: sos_ACCESS-ESM1-5_ssp585*.nc\n",
      ">>>> Compute variances\n"
     ]
    },
    {
     "name": "stderr",
     "output_type": "stream",
     "text": [
      "/opt/conda/lib/python3.7/site-packages/ipykernel_launcher.py:10: RuntimeWarning: Mean of empty slice\n",
      "  # Remove the CWD from sys.path while we load stuff.\n"
     ]
    },
    {
     "name": "stdout",
     "output_type": "stream",
     "text": [
      "> Save file\n",
      "File saved: dimred-220513-predictors-variances/data2plot-variances-of-dtrd-deseas-dic-alk-dicsn-alksn-ACCESS-ESM1-5.pckl\n",
      "> Model: IPSL-CM6A-LR\n",
      ">> predname: dissic\n",
      ">>> simu: historical\n",
      ">>>> Read datas\n",
      "File loaded: dissic_IPSL-CM6A-LR_historical*.nc\n",
      "File loaded: sos_IPSL-CM6A-LR_historical*.nc\n",
      ">>>> Compute variances\n",
      ">>> simu: ssp126\n",
      ">>>> Read datas\n",
      "File loaded: dissic_IPSL-CM6A-LR_ssp126*.nc\n",
      "File loaded: sos_IPSL-CM6A-LR_ssp126*.nc\n",
      ">>>> Compute variances\n",
      ">>> simu: ssp585\n",
      ">>>> Read datas\n",
      "File loaded: dissic_IPSL-CM6A-LR_ssp585*.nc\n",
      "File loaded: sos_IPSL-CM6A-LR_ssp585*.nc\n",
      ">>>> Compute variances\n",
      ">> predname: talk\n",
      ">>> simu: historical\n",
      ">>>> Read datas\n",
      "File loaded: talk_IPSL-CM6A-LR_historical*.nc\n",
      "File loaded: sos_IPSL-CM6A-LR_historical*.nc\n",
      ">>>> Compute variances\n",
      ">>> simu: ssp126\n",
      ">>>> Read datas\n",
      "File loaded: talk_IPSL-CM6A-LR_ssp126*.nc\n",
      "File loaded: sos_IPSL-CM6A-LR_ssp126*.nc\n",
      ">>>> Compute variances\n",
      ">>> simu: ssp585\n",
      ">>>> Read datas\n",
      "File loaded: talk_IPSL-CM6A-LR_ssp585*.nc\n",
      "File loaded: sos_IPSL-CM6A-LR_ssp585*.nc\n",
      ">>>> Compute variances\n",
      "> Save file\n",
      "File saved: dimred-220513-predictors-variances/data2plot-variances-of-dtrd-deseas-dic-alk-dicsn-alksn-IPSL-CM6A-LR.pckl\n",
      "CPU times: user 55min 48s, sys: 52.8 s, total: 56min 41s\n",
      "Wall time: 58min 19s\n"
     ]
    }
   ],
   "source": [
    "%%time\n",
    "print(datetime.datetime.now())\n",
    "print('Variances of the detrended and deseasonalized DIC, ALK and DICsn, ALKsn: prepare and save data2plot')\n",
    "\n",
    "for model in model_list: \n",
    "    \n",
    "    print('> Model: %s'%model)\n",
    "    data2save = {}\n",
    "\n",
    "    for predname in predname_list: \n",
    "\n",
    "        print('>> predname: %s' %predname)\n",
    "\n",
    "        data2save[predname] = {}\n",
    "        data2save[predname+'_sn'] = {}\n",
    "\n",
    "        for simu in simu_list: \n",
    "\n",
    "            print('>>> simu: %s' %simu)\n",
    "\n",
    "            data2save[predname][simu] = {}\n",
    "            data2save[predname+'_sn'][simu] = {}\n",
    "\n",
    "            #---------------\n",
    "            # Read datas\n",
    "            #---------------\n",
    "\n",
    "            print('>>>> Read datas')\n",
    "            \n",
    "            #_______________\n",
    "            # DIC or ALK\n",
    "\n",
    "            dirname = dircmip6 + model + '/' + simu + '/'\n",
    "            fname = predname + '_' + model + '_' + simu + '*.nc'\n",
    "            dataset = xr.open_mfdataset(dirname + fname, use_cftime=True)\n",
    "            print('File loaded: %s' %fname)\n",
    "            zwpred = dataset[predname].sel(time=slice('1850', '2100'))\n",
    "\n",
    "            zwX = zwpred['lon'].values\n",
    "            zwY = zwpred['lat'].values\n",
    "            zwZ = zwpred.values\n",
    "\n",
    "            X, Y = np.meshgrid(zwX, zwY)\n",
    "\n",
    "            if len(zwZ.shape)== 4 : nt, nz, ny, nx = zwZ.shape\n",
    "            elif len(zwZ.shape)==3: nt,     ny, nx = zwZ.shape\n",
    "\n",
    "            #_______________\n",
    "            # Salinity\n",
    "\n",
    "            fname = 'sos' + '_' + model + '_' + simu + '*.nc'\n",
    "            dataset = xr.open_mfdataset(dirname + fname, use_cftime=True)\n",
    "            zwsos = dataset['sos'].sel(time=slice('1850', '2100'))\n",
    "            zwS0 = zwsos.mean(axis=0).values\n",
    "            zwS  = zwsos.values\n",
    "            print('File loaded: %s' %fname)\n",
    "\n",
    "            #---------------\n",
    "            # Compute variance of detrended and deseasonalized signal\n",
    "            #---------------\n",
    "\n",
    "            print('>>>> Compute variances')\n",
    "            \n",
    "            Z = np.zeros((ny, nx))\n",
    "            Zs = np.zeros((ny, nx))\n",
    "            if len(zwZ.shape)== 4 : ground = np.isnan(zwZ[0, 0])    \n",
    "            elif len(zwZ.shape)==3: ground = np.isnan(zwZ[0])    \n",
    "            for jj in np.arange(ny): \n",
    "                for ii in np.arange(nx): \n",
    "\n",
    "                    if not ground[jj, ii]: \n",
    "\n",
    "                        if len(zwZ.shape)== 4 : zw = zwZ[:, 0, jj, ii]\n",
    "                        elif len(zwZ.shape)==3: zw = zwZ[:,    jj, ii]\n",
    "                        # trend\n",
    "                        t = np.linspace(0, nt - 1, num=nt)\n",
    "                        trd = p_smooth_spline(t, zw)\n",
    "                        # dtrd, dseas\n",
    "                        zw_dtrd_dseas, trdseas, seas = dtrd_dseas(zw, trd)\n",
    "                        Z[jj, ii] = np.var(zw_dtrd_dseas)    \n",
    "\n",
    "                        #_______________\n",
    "                        # Salinity normalized\n",
    "                        if len(zwZ.shape)== 4 : zw = zwZ[:, 0, jj, ii] * zwS0[np.newaxis, jj, ii] / zwS[:, jj, ii]\n",
    "                        elif len(zwZ.shape)==3: zw = zwZ[:,    jj, ii] * zwS0[np.newaxis, jj, ii] / zwS[:, jj, ii]\n",
    "                        # trend\n",
    "                        t = np.linspace(0, nt - 1, num=nt)\n",
    "                        trd = p_smooth_spline(t, zw)\n",
    "                        # dtrd, dseas\n",
    "                        zw_dtrd_dseas, trdseas, seas = dtrd_dseas(zw, trd)\n",
    "                        Zs[jj, ii] = np.var(zw_dtrd_dseas)            \n",
    "\n",
    "                    else : \n",
    "                        Z[jj, ii] = np.nan\n",
    "                        Zs[jj, ii] = np.nan\n",
    "\n",
    "                #\n",
    "            #\n",
    "\n",
    "            #---------------\n",
    "            # Save data\n",
    "            #---------------\n",
    "\n",
    "            data2save[predname][simu]['X'] = X\n",
    "            data2save[predname][simu]['Y'] = Y\n",
    "            data2save[predname][simu]['Z'] = Z\n",
    "\n",
    "            data2save[predname+'_sn'][simu]['X'] = X\n",
    "            data2save[predname+'_sn'][simu]['Y'] = Y\n",
    "            data2save[predname+'_sn'][simu]['Z'] = Zs\n",
    "        #\n",
    "    #\n",
    "\n",
    "    #---------------\n",
    "    # Save file\n",
    "    #---------------\n",
    "    print('> Save file')\n",
    "    savedfile = dirout + 'data2plot-variances-of-dtrd-deseas-dic-alk-dicsn-alksn-'+model+'.pckl'\n",
    "    if os.path.isfile(savedfile): os.remove(savedfile)\n",
    "    with open(savedfile, 'wb') as f1:pickle.dump(data2save, f1)\n",
    "    print(\"File saved: \"+savedfile)        \n",
    "\n",
    "# ca. 56m"
   ]
  },
  {
   "cell_type": "markdown",
   "metadata": {},
   "source": [
    "# Time average maps of predictors"
   ]
  },
  {
   "cell_type": "markdown",
   "metadata": {},
   "source": [
    "## Inputs"
   ]
  },
  {
   "cell_type": "code",
   "execution_count": 8,
   "metadata": {},
   "outputs": [
    {
     "name": "stdout",
     "output_type": "stream",
     "text": [
      "2022-08-12 17:08:33.791141\n",
      "CPU times: user 0 ns, sys: 219 µs, total: 219 µs\n",
      "Wall time: 131 µs\n"
     ]
    }
   ],
   "source": [
    "%%time\n",
    "print(datetime.datetime.now())\n",
    "\n",
    "# model_list = ['NorESM2-LM', 'MPI-ESM1-2-LR', 'CNRM-ESM2-1', 'CESM2', 'ACCESS-ESM1-5', 'IPSL-CM6A-LR']\n",
    "# simu_list  = ['picontrol', 'historical', 'ssp126', 'ssp585']\n",
    "simu_list  = ['historical', 'ssp126', 'ssp585']\n",
    "predname_list = ['dissic', 'talk', 'tos', 'sos', 'siconc', 'sfcWind', 'po4', 'epc100', 'mlotst']\n",
    "#predname_list = ['dissic', 'talk']\n",
    "model = 'NorESM2-LM'\n"
   ]
  },
  {
   "cell_type": "markdown",
   "metadata": {},
   "source": [
    "## Load and prepare data2plot"
   ]
  },
  {
   "cell_type": "code",
   "execution_count": 9,
   "metadata": {},
   "outputs": [
    {
     "name": "stdout",
     "output_type": "stream",
     "text": [
      "2022-08-12 17:09:00.545226\n",
      "Time average maps of predictors: prepare and save data2plot\n",
      "Model: NorESM2-LM\n",
      "> predname: dissic\n",
      ">> simu: historical\n"
     ]
    },
    {
     "name": "stderr",
     "output_type": "stream",
     "text": [
      "/opt/conda/lib/python3.7/site-packages/ipykernel_launcher.py:41: RuntimeWarning: Mean of empty slice\n"
     ]
    },
    {
     "name": "stdout",
     "output_type": "stream",
     "text": [
      ">> simu: ssp126\n"
     ]
    },
    {
     "name": "stderr",
     "output_type": "stream",
     "text": [
      "/opt/conda/lib/python3.7/site-packages/ipykernel_launcher.py:41: RuntimeWarning: Mean of empty slice\n"
     ]
    },
    {
     "name": "stdout",
     "output_type": "stream",
     "text": [
      ">> simu: ssp585\n"
     ]
    },
    {
     "name": "stderr",
     "output_type": "stream",
     "text": [
      "/opt/conda/lib/python3.7/site-packages/ipykernel_launcher.py:41: RuntimeWarning: Mean of empty slice\n"
     ]
    },
    {
     "name": "stdout",
     "output_type": "stream",
     "text": [
      "> predname: talk\n",
      ">> simu: historical\n"
     ]
    },
    {
     "name": "stderr",
     "output_type": "stream",
     "text": [
      "/opt/conda/lib/python3.7/site-packages/ipykernel_launcher.py:41: RuntimeWarning: Mean of empty slice\n"
     ]
    },
    {
     "name": "stdout",
     "output_type": "stream",
     "text": [
      ">> simu: ssp126\n"
     ]
    },
    {
     "name": "stderr",
     "output_type": "stream",
     "text": [
      "/opt/conda/lib/python3.7/site-packages/ipykernel_launcher.py:41: RuntimeWarning: Mean of empty slice\n"
     ]
    },
    {
     "name": "stdout",
     "output_type": "stream",
     "text": [
      ">> simu: ssp585\n"
     ]
    },
    {
     "name": "stderr",
     "output_type": "stream",
     "text": [
      "/opt/conda/lib/python3.7/site-packages/ipykernel_launcher.py:41: RuntimeWarning: Mean of empty slice\n"
     ]
    },
    {
     "name": "stdout",
     "output_type": "stream",
     "text": [
      "> predname: tos\n",
      ">> simu: historical\n"
     ]
    },
    {
     "name": "stderr",
     "output_type": "stream",
     "text": [
      "/opt/conda/lib/python3.7/site-packages/ipykernel_launcher.py:41: RuntimeWarning: Mean of empty slice\n"
     ]
    },
    {
     "name": "stdout",
     "output_type": "stream",
     "text": [
      ">> simu: ssp126\n"
     ]
    },
    {
     "name": "stderr",
     "output_type": "stream",
     "text": [
      "/opt/conda/lib/python3.7/site-packages/ipykernel_launcher.py:41: RuntimeWarning: Mean of empty slice\n"
     ]
    },
    {
     "name": "stdout",
     "output_type": "stream",
     "text": [
      ">> simu: ssp585\n"
     ]
    },
    {
     "name": "stderr",
     "output_type": "stream",
     "text": [
      "/opt/conda/lib/python3.7/site-packages/ipykernel_launcher.py:41: RuntimeWarning: Mean of empty slice\n"
     ]
    },
    {
     "name": "stdout",
     "output_type": "stream",
     "text": [
      "> predname: sos\n",
      ">> simu: historical\n"
     ]
    },
    {
     "name": "stderr",
     "output_type": "stream",
     "text": [
      "/opt/conda/lib/python3.7/site-packages/ipykernel_launcher.py:41: RuntimeWarning: Mean of empty slice\n"
     ]
    },
    {
     "name": "stdout",
     "output_type": "stream",
     "text": [
      ">> simu: ssp126\n"
     ]
    },
    {
     "name": "stderr",
     "output_type": "stream",
     "text": [
      "/opt/conda/lib/python3.7/site-packages/ipykernel_launcher.py:41: RuntimeWarning: Mean of empty slice\n"
     ]
    },
    {
     "name": "stdout",
     "output_type": "stream",
     "text": [
      ">> simu: ssp585\n"
     ]
    },
    {
     "name": "stderr",
     "output_type": "stream",
     "text": [
      "/opt/conda/lib/python3.7/site-packages/ipykernel_launcher.py:41: RuntimeWarning: Mean of empty slice\n"
     ]
    },
    {
     "name": "stdout",
     "output_type": "stream",
     "text": [
      "> predname: siconc\n",
      ">> simu: historical\n"
     ]
    },
    {
     "name": "stderr",
     "output_type": "stream",
     "text": [
      "/opt/conda/lib/python3.7/site-packages/ipykernel_launcher.py:41: RuntimeWarning: Mean of empty slice\n"
     ]
    },
    {
     "name": "stdout",
     "output_type": "stream",
     "text": [
      ">> simu: ssp126\n"
     ]
    },
    {
     "name": "stderr",
     "output_type": "stream",
     "text": [
      "/opt/conda/lib/python3.7/site-packages/ipykernel_launcher.py:41: RuntimeWarning: Mean of empty slice\n"
     ]
    },
    {
     "name": "stdout",
     "output_type": "stream",
     "text": [
      ">> simu: ssp585\n"
     ]
    },
    {
     "name": "stderr",
     "output_type": "stream",
     "text": [
      "/opt/conda/lib/python3.7/site-packages/ipykernel_launcher.py:41: RuntimeWarning: Mean of empty slice\n"
     ]
    },
    {
     "name": "stdout",
     "output_type": "stream",
     "text": [
      "> predname: sfcWind\n",
      ">> simu: historical\n",
      ">> simu: ssp126\n",
      ">> simu: ssp585\n",
      "> predname: po4\n",
      ">> simu: historical\n"
     ]
    },
    {
     "name": "stderr",
     "output_type": "stream",
     "text": [
      "/opt/conda/lib/python3.7/site-packages/ipykernel_launcher.py:41: RuntimeWarning: Mean of empty slice\n"
     ]
    },
    {
     "name": "stdout",
     "output_type": "stream",
     "text": [
      ">> simu: ssp126\n"
     ]
    },
    {
     "name": "stderr",
     "output_type": "stream",
     "text": [
      "/opt/conda/lib/python3.7/site-packages/ipykernel_launcher.py:41: RuntimeWarning: Mean of empty slice\n"
     ]
    },
    {
     "name": "stdout",
     "output_type": "stream",
     "text": [
      ">> simu: ssp585\n"
     ]
    },
    {
     "name": "stderr",
     "output_type": "stream",
     "text": [
      "/opt/conda/lib/python3.7/site-packages/ipykernel_launcher.py:41: RuntimeWarning: Mean of empty slice\n"
     ]
    },
    {
     "name": "stdout",
     "output_type": "stream",
     "text": [
      "> predname: epc100\n",
      ">> simu: historical\n"
     ]
    },
    {
     "name": "stderr",
     "output_type": "stream",
     "text": [
      "/opt/conda/lib/python3.7/site-packages/ipykernel_launcher.py:41: RuntimeWarning: Mean of empty slice\n"
     ]
    },
    {
     "name": "stdout",
     "output_type": "stream",
     "text": [
      ">> simu: ssp126\n"
     ]
    },
    {
     "name": "stderr",
     "output_type": "stream",
     "text": [
      "/opt/conda/lib/python3.7/site-packages/ipykernel_launcher.py:41: RuntimeWarning: Mean of empty slice\n"
     ]
    },
    {
     "name": "stdout",
     "output_type": "stream",
     "text": [
      ">> simu: ssp585\n"
     ]
    },
    {
     "name": "stderr",
     "output_type": "stream",
     "text": [
      "/opt/conda/lib/python3.7/site-packages/ipykernel_launcher.py:41: RuntimeWarning: Mean of empty slice\n"
     ]
    },
    {
     "name": "stdout",
     "output_type": "stream",
     "text": [
      "> predname: mlotst\n",
      ">> simu: historical\n"
     ]
    },
    {
     "name": "stderr",
     "output_type": "stream",
     "text": [
      "/opt/conda/lib/python3.7/site-packages/ipykernel_launcher.py:41: RuntimeWarning: Mean of empty slice\n"
     ]
    },
    {
     "name": "stdout",
     "output_type": "stream",
     "text": [
      ">> simu: ssp126\n"
     ]
    },
    {
     "name": "stderr",
     "output_type": "stream",
     "text": [
      "/opt/conda/lib/python3.7/site-packages/ipykernel_launcher.py:41: RuntimeWarning: Mean of empty slice\n"
     ]
    },
    {
     "name": "stdout",
     "output_type": "stream",
     "text": [
      ">> simu: ssp585\n",
      "File saved: dimred-220513-predictors-variances/data2plot-predictors-time-avg-NorESM2-LM.pckl\n",
      "CPU times: user 28.1 s, sys: 17.2 s, total: 45.2 s\n",
      "Wall time: 1min 21s\n"
     ]
    },
    {
     "name": "stderr",
     "output_type": "stream",
     "text": [
      "/opt/conda/lib/python3.7/site-packages/ipykernel_launcher.py:41: RuntimeWarning: Mean of empty slice\n"
     ]
    }
   ],
   "source": [
    "%%time\n",
    "print(datetime.datetime.now())\n",
    "print('Time average maps of predictors: prepare and save data2plot')\n",
    "\n",
    "print('Model: %s'%model)\n",
    "data2save = {}\n",
    "\n",
    "for predname in predname_list: \n",
    "    \n",
    "    print('> predname: %s' %predname)\n",
    "\n",
    "    data2save[predname] = {}\n",
    "    \n",
    "    for simu in simu_list: \n",
    "        \n",
    "        print('>> simu: %s' %simu)\n",
    "        \n",
    "        data2save[predname][simu] = {}\n",
    "\n",
    "        #---------------\n",
    "        # Read datas\n",
    "        #---------------\n",
    "    \n",
    "        dirname = dircmip6 + model + '/' + simu + '/'\n",
    "        fname = predname + '_' + model + '_' + simu + '*.nc'\n",
    "        dataset = xr.open_mfdataset(dirname + fname)\n",
    "        zwpred = dataset[predname]\n",
    "\n",
    "        zwX = zwpred['lon'].values\n",
    "        zwY = zwpred['lat'].values\n",
    "        zwZ = zwpred.values\n",
    "\n",
    "        X, Y = np.meshgrid(zwX, zwY)\n",
    "        \n",
    "        if len(zwZ.shape)== 4 : nt, nz, ny, nx = zwZ.shape\n",
    "        elif len(zwZ.shape)==3: nt,     ny, nx = zwZ.shape\n",
    "        \n",
    "        #---------------\n",
    "        # Compute time mean\n",
    "        #---------------\n",
    "\n",
    "        Z = np.nanmean(zwZ, axis = 0).squeeze()\n",
    "\n",
    "        #---------------\n",
    "        # Save data\n",
    "        #---------------\n",
    "\n",
    "        data2save[predname][simu]['X'] = X\n",
    "        data2save[predname][simu]['Y'] = Y\n",
    "        data2save[predname][simu]['Z'] = Z\n",
    "    #\n",
    "#\n",
    "\n",
    "savedfile = dirout + 'data2plot-predictors-time-avg-'+model+'.pckl'\n",
    "if os.path.isfile(savedfile): os.remove(savedfile)\n",
    "with open(savedfile, 'wb') as f1:pickle.dump(data2save, f1)\n",
    "print(\"File saved: \"+savedfile)        \n",
    "\n",
    "# ca. 1m"
   ]
  },
  {
   "cell_type": "markdown",
   "metadata": {},
   "source": [
    "## Fig"
   ]
  },
  {
   "cell_type": "code",
   "execution_count": 7,
   "metadata": {},
   "outputs": [
    {
     "name": "stdout",
     "output_type": "stream",
     "text": [
      "2022-08-12 17:07:58.165428\n",
      "Time average maps of predictors: fig\n",
      "Model: NorESM2-LM\n"
     ]
    },
    {
     "ename": "FileNotFoundError",
     "evalue": "[Errno 2] No such file or directory: 'dimred-220513-predictors-variances/data2plot-predictors-time-avg-NorESM2-LM.pckl'",
     "output_type": "error",
     "traceback": [
      "\u001b[0;31m---------------------------------------------------------------------------\u001b[0m",
      "\u001b[0;31mFileNotFoundError\u001b[0m                         Traceback (most recent call last)",
      "\u001b[0;32m<timed exec>\u001b[0m in \u001b[0;36m<module>\u001b[0;34m\u001b[0m\n",
      "\u001b[0;31mFileNotFoundError\u001b[0m: [Errno 2] No such file or directory: 'dimred-220513-predictors-variances/data2plot-predictors-time-avg-NorESM2-LM.pckl'"
     ]
    }
   ],
   "source": [
    "%%time\n",
    "print(datetime.datetime.now())\n",
    "print('Time average maps of predictors: fig')\n",
    "\n",
    "print('Model: %s'%model)\n",
    "savedfile = dirout + 'data2plot-predictors-time-avg-'+model+'.pckl'\n",
    "with open(savedfile, 'rb') as f1: data2plot = pickle.load(f1)\n",
    "print(\"File loaded: \"+savedfile)        \n",
    "\n",
    "#-----------------\n",
    "# FIGURE PARAM\n",
    "#-----------------\n",
    "\n",
    "cm2in = 1/2.54 # converting factor cm to inch \n",
    "xfsize, yfsize = 4, 3\n",
    "nrow = len(predname_list)\n",
    "ncol = len(simu_list)\n",
    "ccrsproj = ccrs.Robinson(central_longitude=-155)\n",
    "fig, ax = plt.subplots(nrow, ncol, figsize=(xfsize*ncol,yfsize*nrow), \n",
    "                       subplot_kw=dict(projection=ccrsproj),\n",
    "                       squeeze = False)\n",
    "\n",
    "\n",
    "#-----------------\n",
    "# CREATE CUSTOM CMAP\n",
    "#-----------------\n",
    "\n",
    "from matplotlib.colors import ListedColormap\n",
    "from matplotlib import cm\n",
    "cmap = cm.get_cmap('viridis', 256)\n",
    "newcolors = cmap(np.linspace(0, 1, 10+2))\n",
    "cmap = ListedColormap(newcolors[1:-1])\n",
    "cmap.set_under(color=newcolors[0])\n",
    "cmap.set_over(color=newcolors[-1])\n",
    "\n",
    "#-----------------\n",
    "# KEYWORDS DICT\n",
    "#-----------------\n",
    "\n",
    "# kwmap = {'vmin':0, 'vmax':1, 'cmap':cmap, \\\n",
    "#          'transform':ccrs.PlateCarree() }\n",
    "kwmap = {'cmap':cmap, \\\n",
    "         'transform':ccrs.PlateCarree() }\n",
    "vmax = {\n",
    "    'dissic' : 2.2,   \n",
    "    'talk'   : 2.5,    \n",
    "    'tos'    : 30,   \n",
    "    'sos'    : 37,   \n",
    "    'siconc' : 70,   \n",
    "    'sfcWind': 12,   \n",
    "    'po4'    : 0.0015,    \n",
    "    'epc100' : 1e-7,    \n",
    "    'mlotst' : 150   \n",
    "}\n",
    "\n",
    "vmin = {\n",
    "    'dissic' : 1.9,    \n",
    "    'talk'   : 2.1,    \n",
    "    'tos'    : 0,    \n",
    "    'sos'    : 32,    \n",
    "    'siconc' : 10,    \n",
    "    'sfcWind': 3,    \n",
    "    'po4'    : 0,    \n",
    "    'epc100' : 2e-8,    \n",
    "    'mlotst' : 20    \n",
    "}\n",
    "\n",
    "#---------------------\n",
    "# Plot\n",
    "#---------------------\n",
    "\n",
    "irow = 0\n",
    "pcm = np.zeros_like(ax)\n",
    "for predname in predname_list: \n",
    "    icol = 0\n",
    "    for simu in simu_list: \n",
    "\n",
    "        zax = ax[irow, icol]\n",
    "        X = data2plot[predname][simu]['X']\n",
    "        Y = data2plot[predname][simu]['Y']\n",
    "        Z = data2plot[predname][simu]['Z']\n",
    "        # pcm = zax.pcolormesh(X, Y, Z/np.nanmean(Z), **kwmap)    \n",
    "        # zax.set_title('%s, %s\\n %.1e' %(model, simu.upper(), np.nanmean(Z)))\n",
    "        zwpcm = zax.pcolormesh(X, Y, Z, vmin=vmin[predname], vmax=vmax[predname], **kwmap)    \n",
    "        zax.set_title('%s, %s' %(predname, simu.upper()))\n",
    "        zax.coastlines()\n",
    "        # gl = zax.gridlines(crs=ccrs.PlateCarree(), linewidth=1)\n",
    "        pcm[irow, icol] = zwpcm\n",
    "        icol+=1\n",
    "\n",
    "    #\n",
    "    irow+=1\n",
    "#\n",
    "\n",
    "fig.tight_layout()\n",
    "\n",
    "#---------------------\n",
    "# Move axis\n",
    "#---------------------\n",
    "\n",
    "dy = .3*ax[0, 0].get_position().height\n",
    "for iaxrow, axrow in enumerate(ax[1:]): \n",
    "    for zax in axrow: \n",
    "        \n",
    "        zw = zax.get_position()\n",
    "        ny0 = zw.y0 + (iaxrow+1)*dy\n",
    "        zax.set_position([zw.x0, ny0, zw.width, zw.height])\n",
    "    #\n",
    "#\n",
    "        \n",
    "\n",
    "\n",
    "#---------------------\n",
    "# Colorbar\n",
    "#---------------------\n",
    "\n",
    "for ipredname, vpredname in enumerate(predname_list): \n",
    "    zax = ax[ipredname, 0]\n",
    "    zpcm = pcm[ipredname, 0]\n",
    "    zw = zax.get_position()\n",
    "    nx0 = zw.x0 - 0.1*zw.width\n",
    "    ny0 = zw.y0\n",
    "    nh  = zw.height\n",
    "    nw  = 0.1*nh\n",
    "    cax = fig.add_axes([nx0, ny0, nw, nh])\n",
    "    cbar = fig.colorbar(zpcm, cax=cax, orientation='vertical', \\\n",
    "                        ticklocation='left', extend='both')\n",
    "    cbar.set_label('')\n",
    "#\n",
    "#---------------------\n",
    "# Save figure\n",
    "#---------------------\n",
    "\n",
    "fignam = 'maps-predictors-time-avg-'+model+'.png'\n",
    "fig.savefig(dirout+fignam, bbox_inches='tight')\n",
    "print('Figure saved: '+fignam)\n",
    "\n",
    "# ca. 40s"
   ]
  }
 ],
 "metadata": {
  "kernelspec": {
   "display_name": "Python 3",
   "language": "python",
   "name": "python3"
  },
  "language_info": {
   "codemirror_mode": {
    "name": "ipython",
    "version": 3
   },
   "file_extension": ".py",
   "mimetype": "text/x-python",
   "name": "python",
   "nbconvert_exporter": "python",
   "pygments_lexer": "ipython3",
   "version": "3.7.6"
  },
  "toc-autonumbering": true
 },
 "nbformat": 4,
 "nbformat_minor": 4
}
